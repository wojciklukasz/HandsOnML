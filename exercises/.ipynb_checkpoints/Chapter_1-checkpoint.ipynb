{
 "cells": [
  {
   "cell_type": "markdown",
   "id": "dc374cd2-fe6d-4f3b-aecd-3024fc886fc3",
   "metadata": {},
   "source": [
    "# Chapter 1 exercises"
   ]
  },
  {
   "cell_type": "markdown",
   "id": "2abe5de5-d1d8-4b63-840c-ea9df11df040",
   "metadata": {},
   "source": [
    "#### 1. How would you define machine learning?\r\n"
   ]
  },
  {
   "cell_type": "markdown",
   "id": "d42233a1-4679-4398-a537-655e78078a81",
   "metadata": {},
   "source": [
    "Machine learning is a process of creating a program, which can adapt and perform some actions based on data fed into it.\n",
    "It does not rely on any hardcoded rules, instead it looks for patterns in the data and decides baed on them."
   ]
  },
  {
   "cell_type": "markdown",
   "id": "453ec276-f4ab-487e-b9b1-33bf51ca5c37",
   "metadata": {},
   "source": [
    "#### 2. Can you name four types of applications where it shines?"
   ]
  },
  {
   "cell_type": "markdown",
   "id": "bd1f1ceb-7a90-4a6c-bcf2-658358569d79",
   "metadata": {},
   "source": [
    "1. Natural language processing\n",
    "2. Image recognition\n",
    "3. Classification of data\n",
    "4. Data mining"
   ]
  },
  {
   "cell_type": "markdown",
   "id": "cde2dbca-d732-483c-8e16-514540747b7b",
   "metadata": {},
   "source": [
    "##### 3. What is a labeled training set?"
   ]
  },
  {
   "cell_type": "markdown",
   "id": "2b512077-793b-40ab-bfc7-c9ea40235025",
   "metadata": {},
   "source": [
    "It's a set containing data with labels, which classify each data instance."
   ]
  },
  {
   "cell_type": "markdown",
   "id": "2af48d97-b464-4185-97c5-8e0e7f04fad9",
   "metadata": {},
   "source": [
    "##### 4. What are the two most common supervised tasks?"
   ]
  },
  {
   "cell_type": "markdown",
   "id": "4f2d8919-e3b9-437c-a749-3bea5b74f8d8",
   "metadata": {},
   "source": [
    "1. Classification\n",
    "2. Regression"
   ]
  },
  {
   "cell_type": "markdown",
   "id": "86631ea9-bbc0-4e03-9831-974b411bc9d8",
   "metadata": {},
   "source": [
    "#### 5. Can you name four common unsupervised tasks?"
   ]
  },
  {
   "cell_type": "markdown",
   "id": "1d900049-2cf0-4c04-908d-145c504c31e2",
   "metadata": {},
   "source": [
    "1. Clustering\n",
    "2. Anomaly detection\n",
    "3. Dimensionality reduction\n",
    "4. Association rule learning"
   ]
  },
  {
   "cell_type": "markdown",
   "id": "1d2b605d-044d-4d59-bd6a-fdd877d3c472",
   "metadata": {},
   "source": [
    "#### 6. What type of algorithm would you use to allow a robot to walk in various unknown terrains?"
   ]
  },
  {
   "cell_type": "markdown",
   "id": "43597260-ac66-42c4-b4e8-607aa1ab740e",
   "metadata": {},
   "source": [
    "Reinforcement learning"
   ]
  },
  {
   "cell_type": "markdown",
   "id": "59727122-95e0-45ec-940b-3ee35417b209",
   "metadata": {},
   "source": [
    "#### 7. What type of algorithm would you use to segment your customers into multiple groups?"
   ]
  },
  {
   "cell_type": "markdown",
   "id": "2d469aa0-d708-4c4e-808e-86b11ef6682f",
   "metadata": {},
   "source": [
    "Clustering algorithm, for example k-nearest neighbours"
   ]
  },
  {
   "cell_type": "markdown",
   "id": "3fed7c70-4f77-423c-ad21-d1ef03ff8936",
   "metadata": {},
   "source": [
    "#### 8. Would you frame the problem of spam detection as a supervised learning problem or an unsupervised learning problem?"
   ]
  },
  {
   "cell_type": "markdown",
   "id": "1d6b8f24-c735-4d0f-bd11-ea74828f76bd",
   "metadata": {},
   "source": [
    "Supervised - the algorithm learns based on emails labeled as spam and as normal messages."
   ]
  },
  {
   "cell_type": "markdown",
   "id": "5265ffab-c517-46cb-b301-92ff7c9b73ed",
   "metadata": {},
   "source": [
    "#### 9. What is an online learning system?"
   ]
  },
  {
   "cell_type": "markdown",
   "id": "99f0f731-adc9-4a7d-90b8-581a29b3c7ad",
   "metadata": {},
   "source": [
    "It's a type of machine learning algorithm, which learns incrementaly, rather than on the whole dataset at once.\n",
    "The system therefore should improve with each training pass and be faster to react to changes."
   ]
  },
  {
   "cell_type": "markdown",
   "id": "6fdc54c5-5246-420c-bfe7-6b3a90fe6377",
   "metadata": {},
   "source": [
    "#### 10. What is out-of-core learning?"
   ]
  },
  {
   "cell_type": "markdown",
   "id": "31bcdef3-cfe9-4486-9730-bf38720e00b5",
   "metadata": {},
   "source": [
    "Out-of-core learning occurs when training dataset is too large to train with it's entirety at once. It is instead divided into smaller chunks called batches."
   ]
  },
  {
   "cell_type": "markdown",
   "id": "ca528beb-9f39-4066-a2ca-2ccb0738a750",
   "metadata": {},
   "source": [
    "#### 11. What type of algorithm relies on a similarity measure to make predictions?"
   ]
  },
  {
   "cell_type": "markdown",
   "id": "914e64b5-de4f-4d04-9f43-dbd21ecac7b0",
   "metadata": {},
   "source": [
    "Instance-based learning"
   ]
  },
  {
   "cell_type": "markdown",
   "id": "8b7cda1e-e7ba-46b9-b636-e172fd628b28",
   "metadata": {},
   "source": [
    "#### 12. What is the difference between a model parameter and a model hyperparameter?"
   ]
  },
  {
   "cell_type": "markdown",
   "id": "ea34db53-c7da-482a-b02d-addf3569c2d2",
   "metadata": {},
   "source": [
    "Model parameter is a part of the model, which can be changed during training. Hyperparameter is part of the learning algorithm, which can be changed before training."
   ]
  },
  {
   "cell_type": "markdown",
   "id": "3adef056-f5b5-4551-bd1d-45ea1ba97ae4",
   "metadata": {},
   "source": [
    "#### 13. What do model-based algorithms search for? What is the most common strategy they use to succeed? How do they make predictions?"
   ]
  },
  {
   "cell_type": "markdown",
   "id": "59105a7d-5fc7-41be-91d4-2c724b21cddb",
   "metadata": {},
   "source": [
    "Model-based algorithms look for patterns, trends or similarity in the data. The goal is to create a model, which generalizes well, that is, which works well for new data.\n",
    "The most common strategy involves minimizing the cost function, which tells how wrong the model's predictions are.\n",
    "The predictions are made by inputing new data to a model, which has been trained on training set."
   ]
  },
  {
   "cell_type": "markdown",
   "id": "f81cdf5b-8300-460e-bd72-9985b90a9a86",
   "metadata": {},
   "source": [
    "#### 14. Can you name four of the main challenges in machine learning?"
   ]
  },
  {
   "cell_type": "markdown",
   "id": "6ab4accb-acdc-43a8-b8a5-bc151218900e",
   "metadata": {},
   "source": [
    "1. Insufficient data amount\n",
    "2. Low data quality\n",
    "3. Irrelevant data or features\n",
    "4. Underfitting and overfitting"
   ]
  },
  {
   "cell_type": "markdown",
   "id": "47fb12f2-a9f2-4c40-8945-c42dd8199123",
   "metadata": {},
   "source": [
    "#### 15. If your model performs great on the training data but generalizes poorly to new instances, what is happening? Can you name three possible solutions?"
   ]
  },
  {
   "cell_type": "markdown",
   "id": "23bef370-0658-44a3-bdc7-93e73a624d5c",
   "metadata": {},
   "source": [
    "The model is likely overfitted. The possible solutions include:\n",
    "1. Reducing the complexity of the model\n",
    "2. Acquiring more data\n",
    "3. Improving data quality"
   ]
  },
  {
   "cell_type": "markdown",
   "id": "16ebb429-f30c-4816-ae3d-f80e997cc806",
   "metadata": {},
   "source": [
    "#### 16. What is a test set, and why would you want to use it?"
   ]
  },
  {
   "cell_type": "markdown",
   "id": "3dda88a1-6e03-4909-b98b-c07de623f917",
   "metadata": {},
   "source": [
    "Test set is used to judge the performance of trained model. It is usually a subset of the same dataset used for training set. You need it do tell if the model is capable of generlizing and viable for use in practice."
   ]
  },
  {
   "cell_type": "markdown",
   "id": "3e75fe87-a8a5-4731-824d-83a1e3456d7a",
   "metadata": {},
   "source": [
    "#### 17. What is the purpose of a validation set?"
   ]
  },
  {
   "cell_type": "markdown",
   "id": "f5e5bc05-adfe-4c99-8591-9cfe12af13ab",
   "metadata": {},
   "source": [
    "Validation set is part of the training set, held-out to compare performance of several variations of the model. It's used to select the best hyperparameters."
   ]
  },
  {
   "cell_type": "markdown",
   "id": "26a8d223-7cdb-47f7-b1bd-499c3e43728d",
   "metadata": {},
   "source": [
    "#### 18. What is the train-dev set, when do you need it, and how do you use it?"
   ]
  },
  {
   "cell_type": "markdown",
   "id": "5164a456-aa99-4c80-81c7-d28ab305ca56",
   "metadata": {},
   "source": [
    "The train-dev set is used, when training data doesn't exactly match the real data (data missmatch). You still use a validation set. After training you compare the performance of the model on both the train-dev and the validation set. If the performance varies greatly, then there is likely a big data missmatch. The performance on those sets should be similar."
   ]
  },
  {
   "cell_type": "markdown",
   "id": "867fcf09-8a1a-4a0f-ada9-3009f53b9317",
   "metadata": {},
   "source": [
    "#### 19. What can go wrong if you tune hyperparameters using the test set?"
   ]
  },
  {
   "cell_type": "markdown",
   "id": "966be6e6-4aa9-489c-8b3e-d5a839b1324f",
   "metadata": {},
   "source": [
    "The model will learn the test set. You will get great results, but in practice the model will most likely be bad at generlization."
   ]
  },
  {
   "cell_type": "code",
   "execution_count": null,
   "id": "76b297a3-41db-4bcf-90bc-6d3f7f45f5cc",
   "metadata": {},
   "outputs": [],
   "source": []
  }
 ],
 "metadata": {
  "kernelspec": {
   "display_name": "Python 3 (ipykernel)",
   "language": "python",
   "name": "python3"
  },
  "language_info": {
   "codemirror_mode": {
    "name": "ipython",
    "version": 3
   },
   "file_extension": ".py",
   "mimetype": "text/x-python",
   "name": "python",
   "nbconvert_exporter": "python",
   "pygments_lexer": "ipython3",
   "version": "3.10.12"
  },
  "widgets": {
   "application/vnd.jupyter.widget-state+json": {
    "state": {},
    "version_major": 2,
    "version_minor": 0
   }
  }
 },
 "nbformat": 4,
 "nbformat_minor": 5
}
